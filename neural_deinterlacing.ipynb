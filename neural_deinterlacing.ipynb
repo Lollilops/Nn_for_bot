{
 "cells": [
  {
   "cell_type": "markdown",
   "metadata": {
    "id": "37HBERlPRMzn"
   },
   "source": [
    "# Задание №2. Деинтерлейсинг"
   ]
  },
  {
   "cell_type": "markdown",
   "metadata": {
    "id": "hSBlvzbDRMzr"
   },
   "source": [
    "## Описание\n",
    "\n",
    "Предлагается реализовать нейросетевой алгоритм деинтерлейсинга.\n",
    "\n",
    "**Требования**:\n",
    "* модель реализована на фреймворке PyTorch\n",
    "* обучение происходило _только_ на предоставленной обучающей выборке (но можно использовать разумное размножение выборки)"
   ]
  },
  {
   "cell_type": "markdown",
   "metadata": {
    "id": "hlK-vqeHRMzs"
   },
   "source": [
    "### Общие требования\n",
    "\n",
    "* соблюдать [кодекс чести](https://communitystandards.stanford.edu/policies-and-guidance/honor-code). Виновные будут найдены и наказаны."
   ]
  },
  {
   "cell_type": "markdown",
   "metadata": {
    "id": "c1ewwNz7RMzs"
   },
   "source": [
    "## Оценивание\n",
    "\n",
    "1. Каждый участник может представить не более 1 алгоритма для финального тестирования\n",
    "\n",
    "2. Тестирование будет проводиться на закрытой тестовой выборке, содержащей N (N < 10) тестовых видео\n",
    "\n",
    "3. В качестве метрик будут использованы:\n",
    "    * PSNR\n",
    "    * SSIM\n",
    "    \n",
    "4. По итогам тестирования будет составлена общая таблица результатов по каждой из метрик\n",
    "\n",
    "5. Место алгоритма определяется по формуле: $Place_{algo} = \\frac{Place_{PSNR} + Place_{SSIM}}{2}$\n",
    "\n",
    "6. Баллы за алгоритм зависят от его места: $Score_{algo} = score(Place_{algo})$\n",
    "\n",
    "7. Баллы участника получаются из баллов за предоставленный алгоритм: $Score_{stud} = Score_{neural}^{stud}$"
   ]
  },
  {
   "cell_type": "markdown",
   "metadata": {
    "id": "a0qjeEGeRMzs"
   },
   "source": [
    "## Повторение"
   ]
  },
  {
   "cell_type": "markdown",
   "metadata": {
    "id": "Se0DkTr-RMzs"
   },
   "source": [
    "* [Статья на Хабре](https://habr.com/en/post/51201/) про развёртки\n",
    "* [Статья на Хабре](https://habr.com/en/post/61822/) про методы деинтерлейсинга"
   ]
  },
  {
   "cell_type": "markdown",
   "metadata": {
    "id": "TeW1ZdJPRMzt"
   },
   "source": [
    "_Прогрессивная развёртка (построчная развёртка)_ — способ трансляции и хранения видео, при котором в каждом кадре все строки отображаются последовательно."
   ]
  },
  {
   "cell_type": "markdown",
   "metadata": {
    "id": "RPjNrEZPRMzt"
   },
   "source": [
    "_Интерлейсинг (чересстрочная развёртка)_ — способ трансляции и хранения видео, при котором каждый кадр разбивается на два поля (чётное и нечётное)."
   ]
  },
  {
   "cell_type": "markdown",
   "metadata": {
    "id": "8q_zaN-MRMzt"
   },
   "source": [
    "<img src=\"extra/interlacing-scheme.gif\" width=\"300\"/>"
   ]
  },
  {
   "cell_type": "markdown",
   "metadata": {
    "id": "lSEffG99RMzt"
   },
   "source": [
    "* _Top Field (Odd Field, чётное поле)_ — чётные строки кадра\n",
    "* _Bottom Field (Even Field, нечётное поле)_ — нечётные строки кадра\n",
    "\n",
    "То, какое поле (чётное или нечётное) отвечает за более ранний момент времени — настраиваемый параметр. Обычно чётное поле по времени не позже нечётного"
   ]
  },
  {
   "cell_type": "markdown",
   "metadata": {
    "id": "9tfa_6CCRMzt"
   },
   "source": [
    "При интерлейсинге:\n",
    "* частота кадров *увеличивается в 2 раза* относительно исходного видео в прогрессивной развёртке\n",
    "* разрешение каждого отдельного кадра *уменьшается в 2 раза*\n",
    "\n",
    "Это происходит из-за того, что в каждый момент времени на экране отображается только один полукадр."
   ]
  },
  {
   "cell_type": "markdown",
   "metadata": {
    "id": "CgY6vpjERMzu"
   },
   "source": [
    "![interlaced-vs-progressive](extra/interlaced-vs-progressive.jpg)"
   ]
  },
  {
   "cell_type": "markdown",
   "metadata": {
    "id": "h3zOurgwRMzu"
   },
   "source": [
    "_Деинтерлейсинг_ — преобразование из чересстрочной развёртки в прогрессивную без потери частоты кадров."
   ]
  },
  {
   "cell_type": "markdown",
   "metadata": {
    "id": "n9bSPscLRMzu"
   },
   "source": [
    "## Deep Deinterlacer"
   ]
  },
  {
   "cell_type": "markdown",
   "metadata": {
    "id": "jqG_ObDWRMzu"
   },
   "source": [
    "Будем реализовывать статью https://arxiv.org/abs/1708.00187"
   ]
  },
  {
   "cell_type": "markdown",
   "metadata": {
    "id": "_xDZiwxlRMzu"
   },
   "source": [
    "### 0. Скачаем данные"
   ]
  },
  {
   "cell_type": "markdown",
   "metadata": {
    "id": "XiE_tkJgRMzu",
    "tags": []
   },
   "source": [
    "#### Tiny Dataset [0.5 GB]"
   ]
  },
  {
   "cell_type": "markdown",
   "metadata": {},
   "source": [
    "Выборка Tiny Dataset лежит https://titan.gml-team.ru:5003/sharing/4kPNcZbWw"
   ]
  },
  {
   "cell_type": "code",
   "execution_count": 1,
   "metadata": {
    "id": "4J0VVvbiRMzv"
   },
   "outputs": [],
   "source": [
    "# !unzip -d data tiny_data.zip"
   ]
  },
  {
   "cell_type": "markdown",
   "metadata": {},
   "source": [
    "#### Full Dataset [4.3 GB]"
   ]
  },
  {
   "cell_type": "markdown",
   "metadata": {},
   "source": [
    "Выборка Full Dataset лежит https://titan.gml-team.ru:5003/sharing/wJwSY7GUF"
   ]
  },
  {
   "cell_type": "code",
   "execution_count": 2,
   "metadata": {},
   "outputs": [],
   "source": [
    "# !unzip -d data data.zip"
   ]
  },
  {
   "cell_type": "markdown",
   "metadata": {
    "id": "cwDqFh-ORMzv"
   },
   "source": [
    "### 1. Устанавливаем библиотеки"
   ]
  },
  {
   "cell_type": "code",
   "execution_count": 3,
   "metadata": {
    "id": "i0qbwR4IRMzw"
   },
   "outputs": [],
   "source": [
    "# !pip install matplotlib numpy pillow scikit-image torch tqdm tensorboard --break-system-packages"
   ]
  },
  {
   "cell_type": "code",
   "execution_count": 1,
   "metadata": {
    "id": "P-_-eHUzRMzw"
   },
   "outputs": [],
   "source": [
    "import torch\n",
    "import os\n",
    "from torch import nn\n",
    "from torch.utils.tensorboard import SummaryWriter\n",
    "\n",
    "import numpy as np\n",
    "import matplotlib.pyplot as plt\n",
    "from PIL import Image\n",
    "import skimage\n",
    "from tqdm.notebook import tqdm\n",
    "\n",
    "from pathlib import Path"
   ]
  },
  {
   "cell_type": "markdown",
   "metadata": {
    "id": "W2P-egvORMzw"
   },
   "source": [
    "### 2. Создадим классы для подготовки и загрузки данных"
   ]
  },
  {
   "cell_type": "markdown",
   "metadata": {
    "id": "QMKahiqkRMzw"
   },
   "source": [
    "Самый простой случай:\n",
    "\n",
    "$X_k = \\langle I_{n}^{odd}, I_{n+1}^{even} \\rangle$\n",
    "\n",
    "$y_k = \\langle I_{n}^{even}, I_{n+1}^{odd} \\rangle$"
   ]
  },
  {
   "cell_type": "code",
   "execution_count": 49,
   "metadata": {
    "id": "VAehkuJuRMzw"
   },
   "outputs": [],
   "source": [
    "class MyDataset(torch.utils.data.IterableDataset):\n",
    "    def __init__(self, path, target_size=(64, 64), shuffle=False):\n",
    "        self.target_height, self.target_width = target_size\n",
    "        self.shuffle = shuffle\n",
    "        root_dir = Path(path)\n",
    "        \n",
    "        # Directories containing sequences\n",
    "        directories = sorted(filter(lambda f: f.is_dir(), root_dir.iterdir()))\n",
    "        \n",
    "        self._frames_paths_pairs = []\n",
    "\n",
    "        for frames_dir in directories:\n",
    "            # Order frames names alphabetically\n",
    "            frames_paths = sorted(frames_dir.iterdir())\n",
    "            # Empty directory\n",
    "            if not frames_paths:\n",
    "                continue\n",
    "\n",
    "            # If necessary, you can use more than two frames\n",
    "            for frames_paths_pair in zip(frames_paths[::2], frames_paths[1::2]):\n",
    "                self._frames_paths_pairs.append(frames_paths_pair)\n",
    "    \n",
    "    def _create_records(self, frames_seq):\n",
    "        # frames_seq : sequential frames, read from paths of self._frames_paths_pairs\n",
    "        # If necessary, you can use more than two frames by changing self._frames_paths_pairs\n",
    "        height, width = frames_seq[0].shape[: 2]\n",
    "        patch_shape = (self.target_height, self.target_width, 3)\n",
    "\n",
    "        # Crop the rest of the frames\n",
    "        height -= height % self.target_height\n",
    "        width -= width % self.target_width\n",
    "\n",
    "        # Cut the frames into patches\n",
    "        first_frame_patches, second_frame_patches = (\n",
    "            skimage.util.view_as_blocks(\n",
    "                frame[: height, : width],\n",
    "                patch_shape\n",
    "            ).reshape((-1, *patch_shape))\n",
    "            for frame in frames_seq\n",
    "        )\n",
    "\n",
    "        # Separate odd and even rows of the patches\n",
    "        first_frame_patches_odd_rows = first_frame_patches[:, ::2]\n",
    "        first_frame_patches_even_rows = first_frame_patches[:, 1::2]\n",
    "        second_frame_patches_odd_rows = second_frame_patches[:, ::2]\n",
    "        second_frame_patches_even_rows = second_frame_patches[:, 1::2]\n",
    "\n",
    "        # Combine an input of I^{odd}_{t} and I^{even}_{t+1} for every patch\n",
    "        input_patches = np.zeros_like(first_frame_patches)\n",
    "        input_patches[:, ::2] = first_frame_patches_odd_rows\n",
    "        input_patches[:, 1::2] = second_frame_patches_even_rows\n",
    "\n",
    "        # The first ground truth output is I^{even}_{t}\n",
    "        output_cur_patches = first_frame_patches_even_rows\n",
    "        # The second ground truth output is I^{odd}_{t+1}\n",
    "        output_next_patches = second_frame_patches_odd_rows\n",
    "        \n",
    "        records = zip(input_patches, zip(output_cur_patches, output_next_patches))\n",
    "        return records\n",
    "\n",
    "    def __iter__(self):\n",
    "        \"\"\"Yields the input and the outputs for a NN\n",
    "        \n",
    "        Returns\n",
    "        -------\n",
    "            record : (np.array, (np.array, np.array))\n",
    "        \"\"\"\n",
    "\n",
    "        if self.shuffle:\n",
    "            np.random.shuffle(self._frames_paths_pairs)\n",
    "        count = 0\n",
    "        for frames_paths_pair in self._frames_paths_pairs:\n",
    "            # count +=1\n",
    "            print(frames_paths_pair)\n",
    "            frames_seq = tuple(\n",
    "                np.array(Image.open(frame_path), dtype=np.float32) / 255.\n",
    "                for frame_path in frames_paths_pair\n",
    "            )\n",
    "            # (first_frame, second_frame)\n",
    "            # Here you can apply some full frame augmentations\n",
    "\n",
    "            records = list(self._create_records(frames_seq))\n",
    "            if self.shuffle:\n",
    "                np.random.shuffle(records)\n",
    "\n",
    "            for record in records:\n",
    "                # (merged_patch, (gt_first, gt_second))\n",
    "                # Here you can apply some record augmentations\n",
    "                yield record"
   ]
  },
  {
   "cell_type": "code",
   "execution_count": 50,
   "metadata": {
    "id": "EcNqs9HwRMzx"
   },
   "outputs": [],
   "source": [
    "dataset_trn = MyDataset('data/tiny_data/trn', shuffle=True)\n",
    "dataset_vld = MyDataset('data/tiny_data/vld')\n",
    "\n",
    "BATCH_SIZE = 32\n",
    "\n",
    "dataloader_trn = torch.utils.data.DataLoader(dataset_trn,\n",
    "                                             batch_size=BATCH_SIZE,\n",
    "                                             num_workers=0)  # only single-process loading supported\n",
    "dataloader_vld = torch.utils.data.DataLoader(dataset_vld,\n",
    "                                             batch_size=BATCH_SIZE,\n",
    "                                             num_workers=0)  # only single-process loading supported"
   ]
  },
  {
   "cell_type": "code",
   "execution_count": 51,
   "metadata": {
    "id": "fHj-pX_PRMzy"
   },
   "outputs": [
    {
     "name": "stdout",
     "output_type": "stream",
     "text": [
      "(PosixPath('data/tiny_data/trn/25/00006.png'), PosixPath('data/tiny_data/trn/25/00007.png'))\n"
     ]
    }
   ],
   "source": [
    "batch = next(iter(dataloader_trn))"
   ]
  },
  {
   "cell_type": "code",
   "execution_count": 45,
   "metadata": {
    "id": "g7a9D2pNRMzy"
   },
   "outputs": [
    {
     "data": {
      "text/plain": [
       "<matplotlib.image.AxesImage at 0x31d85fb90>"
      ]
     },
     "execution_count": 45,
     "metadata": {},
     "output_type": "execute_result"
    },
    {
     "data": {
      "image/png": "[encoded data removed]",
      "text/plain": [
       "<Figure size 640x480 with 1 Axes>"
      ]
     },
     "metadata": {},
     "output_type": "display_data"
    }
   ],
   "source": [
    "plt.imshow(batch[0][1])"
   ]
  },
  {
   "cell_type": "markdown",
   "metadata": {
    "id": "NtOfIfwsRMzy"
   },
   "source": [
    "### 3. Создадим класс нашей модели"
   ]
  },
  {
   "cell_type": "markdown",
   "metadata": {
    "id": "E5Vmsz9pRMzz"
   },
   "source": [
    "Документация PyTorch: https://pytorch.org/docs/stable/index.html"
   ]
  },
  {
   "cell_type": "markdown",
   "metadata": {
    "id": "3XiM8xEqMfym"
   },
   "source": [
    "Следующая ячейка должна содержать архитектуру вашей модели.\n",
    "\n",
    " - Комментарий `# GRADED CELL: ...` должен быть первым комментарием в клетке. Его нельзя изменять.\n",
    " - Эта клетка должен быть в единственном экземпляре.\n",
    " - Оцениваться будет только код, написанный внутри класса `Model`."
   ]
  },
  {
   "cell_type": "code",
   "execution_count": null,
   "metadata": {
    "id": "FxJ-92rRRMzz"
   },
   "outputs": [],
   "source": [
    "# GRADED CELL: Model\n",
    "# (0.96442205, 32.260483220323366) - база\n",
    "# (0.965658, 32.31509994338855) - Conv2\n",
    "# (0.9624656, 32.193680505685904) - Conv2 без последнего слоя\n",
    "class Model(nn.Module):\n",
    "    def __init__(self):\n",
    "        \"\"\"Initializes model's architecture.\n",
    "        Assumes an input to be (3, height, width) tensor\n",
    "        \"\"\"\n",
    "        super(Model, self).__init__()\n",
    "        # A common part of the models predicting missing\n",
    "        # rows of the current and the next frames\n",
    "        self.conv1 = nn.Conv2d(3, 32, kernel_size=(3, 3), padding=1)\n",
    "        self.relu1 = nn.ReLU()\n",
    "\n",
    "        self.conv2 = nn.Conv2d(32, 64, kernel_size=(3, 5), padding=(1, 2))\n",
    "        self.relu2 = nn.ReLU()\n",
    "\n",
    "        # self.conv2_1 = nn.Conv2d(64, 32, kernel_size=(5, 3), padding=(2, 1))\n",
    "        # self.relu2_1 = nn.ReLU()\n",
    "\n",
    "        self.conv2_2 = nn.Conv2d(64, 64, kernel_size=(3, 3), padding=(1, 1))\n",
    "        self.relu2_2 = nn.ReLU()\n",
    "\n",
    "        self.conv3 = nn.Conv2d(64, 64, kernel_size=(2, 1), padding=(0, 0))\n",
    "        self.relu3 = nn.ReLU()\n",
    "        # self.drop = nn.Dropout2d(p=0.3)\n",
    "\n",
    "        # self.conv3 = nn.Conv2d(32, 32, kernel_size=(3, 3), padding=1)\n",
    "        # self.relu3 = nn.ReLU()\n",
    "        # I^{even}_{t}\n",
    "        # self.conv4_1 = nn.Conv2d(32, 32, kernel_size=(3, 3), padding=1)\n",
    "        self.avg4_1 = nn.Conv2d(64, 16, kernel_size=(3, 2), stride=(2, 1), padding=(1, 1))\n",
    "        self.conv4_2 = nn.Conv2d(16, 16, kernel_size=(1, 2), padding=0)\n",
    "        self.relu4_2 = nn.ReLU()# Под Снос?\n",
    "        self.conv4_3 = nn.Conv2d(16, 3, kernel_size=(3, 3), padding=1)\n",
    "        self.sigmoid4_2 = nn.Sigmoid()\n",
    "        # I^{odd}_{t+1}\n",
    "        # self.conv5_1 = nn.Conv2d(32, 32, kernel_size=(3, 3), padding=1)\n",
    "        self.avg5_1 = nn.Conv2d(64, 16, kernel_size=(3, 2), stride=(2, 1), padding=(1, 1))\n",
    "        self.conv5_2 = nn.Conv2d(16, 16, kernel_size=(1, 2), padding=0)\n",
    "        self.relu5_2 = nn.ReLU()# Под Снос?\n",
    "        self.conv5_3 = nn.Conv2d(16, 3, kernel_size=(3, 3), padding=1)\n",
    "        self.sigmoid5_2 = nn.Sigmoid()\n",
    "\n",
    "    def forward(self, x):\n",
    "        \"\"\"Mapping from input to outputs\n",
    "\n",
    "        Parameters\n",
    "        ----------\n",
    "            x : torch.tensor\n",
    "                x is (batch_size, height, width, 3) matrix — model's input\n",
    "                combined of I^{odd}_{t} and I^{even}_{t+1}\n",
    "\n",
    "        Returns\n",
    "        -------\n",
    "            cur_even : torch.tensor\n",
    "                first model output — I^{even}_t prediction\n",
    "            next_odd : torch.tensor\n",
    "                second model output — I^{odd}_{t+1} prediction\n",
    "        \"\"\"\n",
    "        # Make the channel dimension in images go first\n",
    "        # so that PyTorch processes it correctly\n",
    "        x = x.permute(0, 3, 1, 2)\n",
    "        # print(0, x.shape)\n",
    "        x = self.conv1(x)\n",
    "        x = self.relu1(x)\n",
    "        x = self.conv2(x)\n",
    "        x = self.relu2(x)\n",
    "        # x = self.conv2_1(x)\n",
    "        # x = self.relu2_1(x)\n",
    "        x = self.conv2_2(x)\n",
    "        x = self.relu2_2(x)\n",
    "        # print(12, x.shape)\n",
    "        x = self.conv3(x)\n",
    "        x = self.relu3(x)\n",
    "        # print(1, x.shape)\n",
    "        # x = self.drop(x)\n",
    "\n",
    "        # A branch that predicts I^{even}_{t}\n",
    "        cur_even = self.avg4_1(x)\n",
    "        # print(2, cur_even.shape)\n",
    "        cur_even = self.conv4_2(cur_even)\n",
    "        cur_even = self.relu4_2(cur_even)\n",
    "        cur_even = self.conv4_3(cur_even)\n",
    "        cur_even = self.sigmoid4_2(cur_even)\n",
    "        # print(3, cur_even.shape)\n",
    "        # Put the channel dimension back\n",
    "        cur_even = cur_even.permute(0, 2, 3, 1)\n",
    "        # print(\"out_c\", cur_even.shape)\n",
    "\n",
    "        # A branch that predicts I^{odd}_{t+1}\n",
    "        next_odd = self.avg5_1(x)\n",
    "        next_odd = self.conv5_2(next_odd)\n",
    "        next_odd = self.relu5_2(next_odd)\n",
    "        next_odd = self.conv5_3(next_odd)\n",
    "        next_odd = self.sigmoid5_2(next_odd)\n",
    "        # Put the channel dimension back\n",
    "        next_odd = next_odd.permute(0, 2, 3, 1)\n",
    "        # print(\"out_n\", next_odd.shape)\n",
    "\n",
    "        return cur_even, next_odd"
   ]
  },
  {
   "cell_type": "markdown",
   "metadata": {
    "id": "jQovhKftRMzz"
   },
   "source": [
    "### 4. Обучим заданную модель"
   ]
  },
  {
   "cell_type": "markdown",
   "metadata": {
    "id": "Iwr7Za_dRMzz"
   },
   "source": [
    "__Пайплайн обучения__:\n",
    "* Определить __таргет__. В нашей задаче это недостающие строки двух последовательных кадров\n",
    "* Определить __функцию потерь (loss)__. У нас всё просто: хочется, чтобы изображения мало отличались друг от друга, поэтому используем MSE между таргетом и предсказанием сети.\n",
    "* Выбрать __оптимизатор__. Задача не из простых, но если хочется, чтобы всё быстро полетело, то лучше всего `Adam`.\n",
    "\n",
    "Шпаргалка по отпимизаторам: https://habr.com/ru/post/318970/"
   ]
  },
  {
   "cell_type": "code",
   "execution_count": null,
   "metadata": {
    "id": "imwEvwbXRMzz"
   },
   "outputs": [],
   "source": [
    "# Use a GPU if available\n",
    "print(torch.cuda.is_available())\n",
    "device = torch.device(\"cuda\" if torch.cuda.is_available() else \"cpu\")\n",
    "# Initialize a model\n",
    "model = Model()\n",
    "# Move its parameters to the GPU\n",
    "model.to(device)\n",
    "\n",
    "print(model)\n",
    "print(\"Number of parameters:\", sum([p.numel() for p in model.parameters()]))"
   ]
  },
  {
   "cell_type": "code",
   "execution_count": null,
   "metadata": {
    "id": "EerncJljRMz0"
   },
   "outputs": [],
   "source": [
    "# Define a loss function\n",
    "criterion = nn.MSELoss().to(device)\n",
    "# Pick Adam algorithm as an optimizer\n",
    "optimizer = torch.optim.Adam(model.parameters())"
   ]
  },
  {
   "cell_type": "code",
   "execution_count": null,
   "metadata": {
    "id": "TMzM2mocRMz0"
   },
   "outputs": [],
   "source": [
    "def train_model(model, epochs):\n",
    "    \"\"\"Trains the given model with the given number of epochs\n",
    "    \n",
    "    Parameters\n",
    "    ----------\n",
    "        model : Model\n",
    "        epochs : int\n",
    "            number of epochs to train the model\n",
    "    \"\"\"\n",
    "    writer = SummaryWriter()\n",
    "\n",
    "    for epoch in range(1, epochs+1):\n",
    "        print(f\"Epoch {epoch}/{epochs}:\", flush=True)\n",
    "        # Recalculate train loss on every sample using a moving average\n",
    "        moving_avg_loss = 0.0\n",
    "        train_losses = []\n",
    "        \n",
    "        ##################\n",
    "        ### TRAIN LOOP ###\n",
    "        ##################\n",
    "        with tqdm() as batch_bar:\n",
    "            for i, data in enumerate(dataloader_trn):\n",
    "                inputs, gt_outputs = data\n",
    "                # Move data to GPU\n",
    "                inputs = inputs.to(device)\n",
    "                gt_outputs = list(map(lambda x: x.to(device), gt_outputs))\n",
    "                \n",
    "                # Forward pass\n",
    "                outputs = model(inputs)\n",
    "                # print()\n",
    "                # Calculate loss, make a backward pass and update the parameters of the model\n",
    "                loss = criterion(outputs[0], gt_outputs[0]) + criterion(outputs[1], gt_outputs[1])\n",
    "                # Set to zero the parameter gradients for the current batch\n",
    "                optimizer.zero_grad()\n",
    "                loss.backward()\n",
    "                optimizer.step()\n",
    "                \n",
    "                # Calculate moving average loss\n",
    "                moving_avg_loss = loss.item() if i == 0 else (0.99 * moving_avg_loss + 0.01 * loss.item())\n",
    "                \n",
    "                # Save train batch loss\n",
    "                train_losses.append(loss.item())\n",
    "                batch_bar.set_postfix_str(f\"\\tloss = {moving_avg_loss :.8f}\")\n",
    "                batch_bar.update()\n",
    "                \n",
    "        writer.add_scalar('Loss/train', np.mean(train_losses), epoch)\n",
    "        print(f\"Train loss: {np.mean(train_losses)}\\n\", flush=True)\n",
    "        \n",
    "        #######################\n",
    "        ### VALIDATION LOOP ###\n",
    "        #######################\n",
    "        val_losses = []\n",
    "        # Freeze model params for validation\n",
    "        model.eval()\n",
    "        with torch.no_grad():\n",
    "            with tqdm() as batch_bar:\n",
    "                for i, data in enumerate(dataloader_vld):\n",
    "                    inputs, gt_outputs = data\n",
    "                    inputs = inputs.to(device)\n",
    "                    gt_outputs = list(map(lambda x: x.to(device), gt_outputs))\n",
    "                    outputs = model(inputs)\n",
    "                    loss = criterion(outputs[0], gt_outputs[0]) + criterion(outputs[1], gt_outputs[1])\n",
    "                    val_losses.append(loss.item())\n",
    "                    batch_bar.set_postfix_str(f\"\\tval loss = {loss.item() :.8f}\")\n",
    "                    batch_bar.update()\n",
    "\n",
    "        writer.add_scalar('Loss/val', np.mean(val_losses), epoch)\n",
    "        print(f\"Validation loss: {np.mean(val_losses)}\\n\", flush=True)\n",
    "\n",
    "        # Unfreeze model params for training\n",
    "        model.train()\n",
    "        \n",
    "    print(\"Finished training!\")"
   ]
  },
  {
   "cell_type": "code",
   "execution_count": null,
   "metadata": {
    "id": "5Xv9CuuRRMz0"
   },
   "outputs": [],
   "source": [
    "train_model(model=model, epochs=5)"
   ]
  },
  {
   "cell_type": "code",
   "execution_count": null,
   "metadata": {
    "id": "XxKp7uQ_RMz0"
   },
   "outputs": [],
   "source": [
    "# Load the TensorBoard notebook extension\n",
    "%load_ext tensorboard\n",
    "%tensorboard --logdir runs"
   ]
  },
  {
   "cell_type": "markdown",
   "metadata": {
    "id": "FRl0Vx2zRMz0"
   },
   "source": [
    "### 5. Посмотрим на выход модели"
   ]
  },
  {
   "cell_type": "code",
   "execution_count": null,
   "metadata": {
    "id": "WbLifDirRMz0"
   },
   "outputs": [],
   "source": [
    "def evaluate(model, interlaced_image):\n",
    "    with torch.no_grad():\n",
    "        # Add batch dimension and wrap it into a tensor on the GPU\n",
    "        model_input = torch.tensor(interlaced_image[np.newaxis, ...], device=device)\n",
    "        # Predict \n",
    "        current_even, next_odd = model(model_input)\n",
    "\n",
    "        current_even = current_even.cpu().numpy()[0]\n",
    "        next_odd = next_odd.cpu().numpy()[0]\n",
    "\n",
    "        first = np.zeros_like(interlaced_image)\n",
    "        first[::2] = interlaced_image[::2]\n",
    "        first[1::2] = current_even\n",
    "\n",
    "        second = np.zeros_like(interlaced_image)\n",
    "        second[1::2] = interlaced_image[1::2]\n",
    "        second[::2] = next_odd\n",
    "\n",
    "        return first, second"
   ]
  },
  {
   "cell_type": "code",
   "execution_count": null,
   "metadata": {
    "id": "_awL8ZsIRMz0"
   },
   "outputs": [],
   "source": [
    "test_image = np.array(Image.open('data/tiny_data/test/interlace/0/00000.png'), dtype=np.float32) / 255.\n",
    "gt_image = np.array(Image.open('data/tiny_data/test/gt/0/00000.png'), dtype=np.float32) / 255."
   ]
  },
  {
   "cell_type": "code",
   "execution_count": null,
   "metadata": {
    "id": "qGtRuCs2RMz1"
   },
   "outputs": [],
   "source": [
    "plt.imshow(test_image)"
   ]
  },
  {
   "cell_type": "code",
   "execution_count": null,
   "metadata": {
    "id": "IY1oMt5QRMz1"
   },
   "outputs": [],
   "source": [
    "first, second = evaluate(model, test_image)"
   ]
  },
  {
   "cell_type": "code",
   "execution_count": null,
   "metadata": {
    "id": "zccl5Xe6RMz1"
   },
   "outputs": [],
   "source": [
    "plt.imshow(first)"
   ]
  },
  {
   "cell_type": "code",
   "execution_count": null,
   "metadata": {
    "id": "cNaH_r6WRMz1"
   },
   "outputs": [],
   "source": [
    "plt.imshow(second)"
   ]
  },
  {
   "cell_type": "code",
   "execution_count": null,
   "metadata": {
    "id": "nUT--95vRMz2"
   },
   "outputs": [],
   "source": [
    "plt.imshow(gt_image[1000:1050, 1275:1325])"
   ]
  },
  {
   "cell_type": "code",
   "execution_count": null,
   "metadata": {
    "id": "G2qJIOfGRMz1"
   },
   "outputs": [],
   "source": [
    "plt.imshow(first[1000:1050, 1275:1325])"
   ]
  },
  {
   "cell_type": "code",
   "execution_count": null,
   "metadata": {
    "id": "QjTWpm3oZuPT"
   },
   "outputs": [],
   "source": [
    "# Сохраним полученную модель\n",
    "torch.save(model, 'model.pth')"
   ]
  },
  {
   "cell_type": "markdown",
   "metadata": {
    "id": "NM8W5-1hXL1a"
   },
   "source": [
    "### 6. Протестируем полученную модель"
   ]
  },
  {
   "cell_type": "markdown",
   "metadata": {
    "id": "oRv3eeKJLd3l"
   },
   "source": [
    "Следующая ячейка должна вызывать вашу модель и получать из последовательности interlaced кадров deinterlaced кадры. Так же укажите относительный путь до сохранения в параметре model_path этой функции.\n",
    "\n",
    " - Комментарий `# GRADED CELL: ...` должен быть первым комментарием в клетке. Его нельзя изменять.\n",
    " - Эта клетка должен быть в единственном экземпляре.\n",
    " - Оцениваться будет только код, написанный внутри функции `test_model`."
   ]
  },
  {
   "cell_type": "code",
   "execution_count": null,
   "metadata": {
    "id": "i_dCo5KsymFS"
   },
   "outputs": [],
   "source": [
    "# GRADED CELL: test_model\n",
    "\n",
    "def test_model(input_frames_dir, model_path='model.pth'):\n",
    "    \"\"\"Calculates deinterlaced frames from interlaced\n",
    "\n",
    "    Parameters\n",
    "    ----------\n",
    "        input_frames_dir : string\n",
    "          path to interlaced framed\n",
    "        model_path: sting \n",
    "          path to pytorch model\n",
    "\n",
    "    Returns\n",
    "    -------\n",
    "        output_frames: list of deinterlaces frames\n",
    "    \"\"\"\n",
    "    model = torch.load(model_path, map_location=device).to(device).eval()\n",
    "    output_frames = []\n",
    "    \n",
    "    # If your model uses other inputs write an implementation of this function\n",
    "    my_evaluate = evaluate\n",
    "\n",
    "    for input_name in sorted(os.listdir(input_frames_dir)):\n",
    "        if '.DS_Store' in input_name:\n",
    "            continue\n",
    "        input_path = os.path.join(input_frames_dir, input_name)\n",
    "        interlaced_frame = np.array(Image.open(input_path), dtype=np.float32) / 255.\n",
    "\n",
    "        output_frames.extend(my_evaluate(model, interlaced_frame))\n",
    "    return output_frames"
   ]
  },
  {
   "cell_type": "code",
   "execution_count": null,
   "metadata": {
    "id": "Ihx_8skx4gN9"
   },
   "outputs": [],
   "source": [
    "model_outputs = test_model('./data/data/test/interlace/0')"
   ]
  },
  {
   "cell_type": "code",
   "execution_count": null,
   "metadata": {
    "id": "tQ6ywi7gdcSo"
   },
   "outputs": [],
   "source": [
    "from skimage.metrics import structural_similarity as ssim\n",
    "from skimage.metrics import peak_signal_noise_ratio as psnr\n",
    "\n",
    "def calculate_metrics(model_outputs, gt_path):\n",
    "    \"\"\"Calculates average PSNR and SSIM on the passed data\n",
    "\n",
    "    Parameters\n",
    "    ----------\n",
    "        model_outputs\n",
    "            list of deinterlaced frames\n",
    "        gt_path : string\n",
    "            path to gt frames\n",
    "\n",
    "    Returns\n",
    "    -------\n",
    "        (PSNR, SSIM)\n",
    "    \"\"\"\n",
    "    gt_frames = [np.array(Image.open(os.path.join(gt_path, x)), dtype=np.float32) / 255. \n",
    "                 for x in sorted(os.listdir(gt_path)) if '.DS_Store' not in x]\n",
    "    assert len(gt_frames) == len(model_outputs)\n",
    "    ssim_list = []\n",
    "    psnr_list = []\n",
    "    for gt_frame, deinterlaced_frame in tqdm(zip(gt_frames, model_outputs)):\n",
    "        ssim_list.append(ssim(gt_frame, deinterlaced_frame, multichannel=True))\n",
    "        psnr_list.append(psnr(gt_frame, deinterlaced_frame))\n",
    "    return np.mean(ssim_list), np.mean(psnr_list)"
   ]
  },
  {
   "cell_type": "code",
   "execution_count": null,
   "metadata": {
    "id": "aVn4VmmbHL82"
   },
   "outputs": [],
   "source": [
    "calculate_metrics(model_outputs, './data/data/test/gt/0')"
   ]
  },
  {
   "cell_type": "code",
   "execution_count": null,
   "metadata": {},
   "outputs": [],
   "source": []
  }
 ],
 "metadata": {
  "accelerator": "GPU",
  "colab": {
   "collapsed_sections": [],
   "name": "neural_deinterlacing.ipynb",
   "provenance": [],
   "toc_visible": true
  },
  "kernelspec": {
   "display_name": "Python 3 (ipykernel)",
   "language": "python",
   "name": "python3"
  },
  "language_info": {
   "codemirror_mode": {
    "name": "ipython",
    "version": 3
   },
   "file_extension": ".py",
   "mimetype": "text/x-python",
   "name": "python",
   "nbconvert_exporter": "python",
   "pygments_lexer": "ipython3",
   "version": "3.11.4"
  }
 },
 "nbformat": 4,
 "nbformat_minor": 4
}
